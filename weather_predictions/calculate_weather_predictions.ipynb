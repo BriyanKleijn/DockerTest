{
 "metadata": {
  "language_info": {
   "codemirror_mode": {
    "name": "ipython",
    "version": 3
   },
   "file_extension": ".py",
   "mimetype": "text/x-python",
   "name": "python",
   "nbconvert_exporter": "python",
   "pygments_lexer": "ipython3",
   "version": "3.9.0-final"
  },
  "orig_nbformat": 2,
  "kernelspec": {
   "name": "python3",
   "display_name": "Python 3.9.0 64-bit",
   "metadata": {
    "interpreter": {
     "hash": "ac59ebe37160ed0dfa835113d9b8498d9f09ceb179beaac4002f036b9467c963"
    }
   }
  }
 },
 "nbformat": 4,
 "nbformat_minor": 2,
 "cells": [
  {
   "source": [
    "# Estimating weather in Berkum between 2020/12/1 and 2020/12/7"
   ],
   "cell_type": "markdown",
   "metadata": {}
  },
  {
   "source": [
    "## Imports"
   ],
   "cell_type": "markdown",
   "metadata": {}
  },
  {
   "cell_type": "code",
   "execution_count": 1,
   "metadata": {},
   "outputs": [],
   "source": [
    "from weather_estimates import weather_estimates\n",
    "import datetime as dt"
   ]
  },
  {
   "source": [
    "## Variables\n",
    "A couple of variables need to be created in order to calculate an estimate of the weather in Berkum. "
   ],
   "cell_type": "markdown",
   "metadata": {}
  },
  {
   "cell_type": "code",
   "execution_count": 2,
   "metadata": {},
   "outputs": [],
   "source": [
    "# Latitude and longitude of berkum. \n",
    "lat_berkum, lon_berkum = 52.524473, 6.138002\n",
    "\n",
    "# Timespan that is used to get the weather\n",
    "start, end = dt.datetime(2020,12,1,0), dt.datetime(2020,12,7,6)\n"
   ]
  },
  {
   "source": [
    "## Initialize class \n"
   ],
   "cell_type": "markdown",
   "metadata": {}
  },
  {
   "source": [
    "Before estimating weather data at a specific location, an instance of the weather_estimates class needs to be made. The initialization proces starts by acquiring data that is neccesary to calculate the estimates, like the KNMI data. When the data is acquired, it will be used to calculate the N closests stations to the desired location. These stations will be used by the curve fitting algorithm to calculate an estimate of the weather at the given location. \n",
    "\n",
    "The table below shows the first 10 rows of the acquired KNMI data. As you might have noticed, KNMI measures their data per hour (see 'HH' column). The registered hour is an hour slot from HH-1 to HH.  "
   ],
   "cell_type": "markdown",
   "metadata": {}
  },
  {
   "cell_type": "code",
   "execution_count": 3,
   "metadata": {},
   "outputs": [
    {
     "output_type": "execute_result",
     "data": {
      "text/plain": [
       "Int64Index([273, 279, 290], dtype='int64', name='STN')"
      ]
     },
     "metadata": {},
     "execution_count": 3
    }
   ],
   "source": [
    "estimate = weather_estimates(lat=lat_berkum, lon=lon_berkum, start_date=start, end_date=end)\n",
    "estimate.data.head(10)"
   ]
  },
  {
   "source": [
    "## Get estimates\n",
    "The weatherdata is calculated by using geospatial interpolation, which uses the nearests stations that are calculed when initializing. These stations will be used as reference points for the curve fit algorithm and to select the data that is needed in the algorithm. A while loop is used to calculate the estimates per hour. The loop will continue untill the given end_time is reached. \n",
    "\n",
    "Below are the first 24 results of using the caculations on the estimate class that is initialized at the start of this document."
   ],
   "cell_type": "markdown",
   "metadata": {}
  },
  {
   "source": [
    "### Temperature"
   ],
   "cell_type": "markdown",
   "metadata": {}
  },
  {
   "cell_type": "code",
   "execution_count": 4,
   "metadata": {
    "tags": []
   },
   "outputs": [
    {
     "output_type": "execute_result",
     "data": {
      "text/plain": [
       "                     temperature\n",
       "2020-12-01 00:00:00     6.726618\n",
       "2020-12-01 01:00:00     7.265494\n",
       "2020-12-01 02:00:00     6.403473\n",
       "2020-12-01 03:00:00     6.504325\n",
       "2020-12-01 04:00:00     6.436456\n",
       "2020-12-01 05:00:00     6.600336\n",
       "2020-12-01 06:00:00     7.396437\n",
       "2020-12-01 07:00:00     8.030226\n",
       "2020-12-01 08:00:00     8.430607\n",
       "2020-12-01 09:00:00     8.464261\n",
       "2020-12-01 10:00:00     8.598342\n",
       "2020-12-01 11:00:00     9.063500\n",
       "2020-12-01 12:00:00     9.163881\n",
       "2020-12-01 13:00:00     8.833834\n",
       "2020-12-01 14:00:00     9.028747\n",
       "2020-12-01 15:00:00     8.130316\n",
       "2020-12-01 16:00:00     7.533027\n",
       "2020-12-01 17:00:00     7.365203\n",
       "2020-12-01 18:00:00     7.095809\n",
       "2020-12-01 19:00:00     6.761640\n",
       "2020-12-01 20:00:00     6.329845\n",
       "2020-12-01 21:00:00     6.196908\n",
       "2020-12-01 22:00:00     6.096146\n",
       "2020-12-01 23:00:00     5.863589"
      ],
      "text/html": "<div>\n<style scoped>\n    .dataframe tbody tr th:only-of-type {\n        vertical-align: middle;\n    }\n\n    .dataframe tbody tr th {\n        vertical-align: top;\n    }\n\n    .dataframe thead th {\n        text-align: right;\n    }\n</style>\n<table border=\"1\" class=\"dataframe\">\n  <thead>\n    <tr style=\"text-align: right;\">\n      <th></th>\n      <th>temperature</th>\n    </tr>\n  </thead>\n  <tbody>\n    <tr>\n      <th>2020-12-01 00:00:00</th>\n      <td>6.726618</td>\n    </tr>\n    <tr>\n      <th>2020-12-01 01:00:00</th>\n      <td>7.265494</td>\n    </tr>\n    <tr>\n      <th>2020-12-01 02:00:00</th>\n      <td>6.403473</td>\n    </tr>\n    <tr>\n      <th>2020-12-01 03:00:00</th>\n      <td>6.504325</td>\n    </tr>\n    <tr>\n      <th>2020-12-01 04:00:00</th>\n      <td>6.436456</td>\n    </tr>\n    <tr>\n      <th>2020-12-01 05:00:00</th>\n      <td>6.600336</td>\n    </tr>\n    <tr>\n      <th>2020-12-01 06:00:00</th>\n      <td>7.396437</td>\n    </tr>\n    <tr>\n      <th>2020-12-01 07:00:00</th>\n      <td>8.030226</td>\n    </tr>\n    <tr>\n      <th>2020-12-01 08:00:00</th>\n      <td>8.430607</td>\n    </tr>\n    <tr>\n      <th>2020-12-01 09:00:00</th>\n      <td>8.464261</td>\n    </tr>\n    <tr>\n      <th>2020-12-01 10:00:00</th>\n      <td>8.598342</td>\n    </tr>\n    <tr>\n      <th>2020-12-01 11:00:00</th>\n      <td>9.063500</td>\n    </tr>\n    <tr>\n      <th>2020-12-01 12:00:00</th>\n      <td>9.163881</td>\n    </tr>\n    <tr>\n      <th>2020-12-01 13:00:00</th>\n      <td>8.833834</td>\n    </tr>\n    <tr>\n      <th>2020-12-01 14:00:00</th>\n      <td>9.028747</td>\n    </tr>\n    <tr>\n      <th>2020-12-01 15:00:00</th>\n      <td>8.130316</td>\n    </tr>\n    <tr>\n      <th>2020-12-01 16:00:00</th>\n      <td>7.533027</td>\n    </tr>\n    <tr>\n      <th>2020-12-01 17:00:00</th>\n      <td>7.365203</td>\n    </tr>\n    <tr>\n      <th>2020-12-01 18:00:00</th>\n      <td>7.095809</td>\n    </tr>\n    <tr>\n      <th>2020-12-01 19:00:00</th>\n      <td>6.761640</td>\n    </tr>\n    <tr>\n      <th>2020-12-01 20:00:00</th>\n      <td>6.329845</td>\n    </tr>\n    <tr>\n      <th>2020-12-01 21:00:00</th>\n      <td>6.196908</td>\n    </tr>\n    <tr>\n      <th>2020-12-01 22:00:00</th>\n      <td>6.096146</td>\n    </tr>\n    <tr>\n      <th>2020-12-01 23:00:00</th>\n      <td>5.863589</td>\n    </tr>\n  </tbody>\n</table>\n</div>"
     },
     "metadata": {},
     "execution_count": 4
    }
   ],
   "source": [
    "temperatures = estimate.get_temperature()\n",
    "temperatures.head(24)"
   ]
  },
  {
   "source": [
    "### Wind speed\n"
   ],
   "cell_type": "markdown",
   "metadata": {}
  },
  {
   "cell_type": "code",
   "execution_count": 5,
   "metadata": {
    "tags": []
   },
   "outputs": [
    {
     "output_type": "execute_result",
     "data": {
      "text/plain": [
       "                     wind_speed\n",
       "2020-12-01 00:00:00    3.333184\n",
       "2020-12-01 01:00:00    3.003810\n",
       "2020-12-01 02:00:00    2.674435\n",
       "2020-12-01 03:00:00    2.674435\n",
       "2020-12-01 04:00:00    2.674435\n",
       "2020-12-01 05:00:00    2.670626\n",
       "2020-12-01 06:00:00    3.321307\n",
       "2020-12-01 07:00:00    4.650682\n",
       "2020-12-01 08:00:00    4.658749\n",
       "2020-12-01 09:00:00    4.995743\n",
       "2020-12-01 10:00:00    4.995743\n",
       "2020-12-01 11:00:00    4.995743\n",
       "2020-12-01 12:00:00    4.991933\n",
       "2020-12-01 13:00:00    4.991933\n",
       "2020-12-01 14:00:00    4.336994\n",
       "2020-12-01 15:00:00    4.333184\n",
       "2020-12-01 16:00:00    3.336994\n",
       "2020-12-01 17:00:00    3.336994\n",
       "2020-12-01 18:00:00    3.674435\n",
       "2020-12-01 19:00:00    3.333184\n",
       "2020-12-01 20:00:00    2.666368\n",
       "2020-12-01 21:00:00    2.333184\n",
       "2020-12-01 22:00:00    2.007619\n",
       "2020-12-01 23:00:00    2.333184"
      ],
      "text/html": "<div>\n<style scoped>\n    .dataframe tbody tr th:only-of-type {\n        vertical-align: middle;\n    }\n\n    .dataframe tbody tr th {\n        vertical-align: top;\n    }\n\n    .dataframe thead th {\n        text-align: right;\n    }\n</style>\n<table border=\"1\" class=\"dataframe\">\n  <thead>\n    <tr style=\"text-align: right;\">\n      <th></th>\n      <th>wind_speed</th>\n    </tr>\n  </thead>\n  <tbody>\n    <tr>\n      <th>2020-12-01 00:00:00</th>\n      <td>3.333184</td>\n    </tr>\n    <tr>\n      <th>2020-12-01 01:00:00</th>\n      <td>3.003810</td>\n    </tr>\n    <tr>\n      <th>2020-12-01 02:00:00</th>\n      <td>2.674435</td>\n    </tr>\n    <tr>\n      <th>2020-12-01 03:00:00</th>\n      <td>2.674435</td>\n    </tr>\n    <tr>\n      <th>2020-12-01 04:00:00</th>\n      <td>2.674435</td>\n    </tr>\n    <tr>\n      <th>2020-12-01 05:00:00</th>\n      <td>2.670626</td>\n    </tr>\n    <tr>\n      <th>2020-12-01 06:00:00</th>\n      <td>3.321307</td>\n    </tr>\n    <tr>\n      <th>2020-12-01 07:00:00</th>\n      <td>4.650682</td>\n    </tr>\n    <tr>\n      <th>2020-12-01 08:00:00</th>\n      <td>4.658749</td>\n    </tr>\n    <tr>\n      <th>2020-12-01 09:00:00</th>\n      <td>4.995743</td>\n    </tr>\n    <tr>\n      <th>2020-12-01 10:00:00</th>\n      <td>4.995743</td>\n    </tr>\n    <tr>\n      <th>2020-12-01 11:00:00</th>\n      <td>4.995743</td>\n    </tr>\n    <tr>\n      <th>2020-12-01 12:00:00</th>\n      <td>4.991933</td>\n    </tr>\n    <tr>\n      <th>2020-12-01 13:00:00</th>\n      <td>4.991933</td>\n    </tr>\n    <tr>\n      <th>2020-12-01 14:00:00</th>\n      <td>4.336994</td>\n    </tr>\n    <tr>\n      <th>2020-12-01 15:00:00</th>\n      <td>4.333184</td>\n    </tr>\n    <tr>\n      <th>2020-12-01 16:00:00</th>\n      <td>3.336994</td>\n    </tr>\n    <tr>\n      <th>2020-12-01 17:00:00</th>\n      <td>3.336994</td>\n    </tr>\n    <tr>\n      <th>2020-12-01 18:00:00</th>\n      <td>3.674435</td>\n    </tr>\n    <tr>\n      <th>2020-12-01 19:00:00</th>\n      <td>3.333184</td>\n    </tr>\n    <tr>\n      <th>2020-12-01 20:00:00</th>\n      <td>2.666368</td>\n    </tr>\n    <tr>\n      <th>2020-12-01 21:00:00</th>\n      <td>2.333184</td>\n    </tr>\n    <tr>\n      <th>2020-12-01 22:00:00</th>\n      <td>2.007619</td>\n    </tr>\n    <tr>\n      <th>2020-12-01 23:00:00</th>\n      <td>2.333184</td>\n    </tr>\n  </tbody>\n</table>\n</div>"
     },
     "metadata": {},
     "execution_count": 5
    }
   ],
   "source": [
    "wind_speed = estimate.get_wind_speed()\n",
    "wind_speed.head(24)"
   ]
  },
  {
   "source": [
    "### Horizontal irradiation"
   ],
   "cell_type": "markdown",
   "metadata": {}
  },
  {
   "cell_type": "code",
   "execution_count": 6,
   "metadata": {},
   "outputs": [
    {
     "output_type": "execute_result",
     "data": {
      "text/plain": [
       "                     horizontal_irradiation\n",
       "2020-12-01 00:00:00                 0.00000\n",
       "2020-12-01 01:00:00                 0.00000\n",
       "2020-12-01 02:00:00                 0.00000\n",
       "2020-12-01 03:00:00                 0.00000\n",
       "2020-12-01 04:00:00                 0.00000\n",
       "2020-12-01 05:00:00                 0.00000\n",
       "2020-12-01 06:00:00                 0.00000\n",
       "2020-12-01 07:00:00                 0.00000\n",
       "2020-12-01 08:00:00                 4.64063\n",
       "2020-12-01 09:00:00                23.11474\n",
       "2020-12-01 10:00:00                46.34962\n",
       "2020-12-01 11:00:00                75.91244\n",
       "2020-12-01 12:00:00               102.62714\n",
       "2020-12-01 13:00:00               100.03921\n",
       "2020-12-01 14:00:00                94.10893\n",
       "2020-12-01 15:00:00                22.99461\n",
       "2020-12-01 16:00:00                 2.77778\n",
       "2020-12-01 17:00:00                 0.00000\n",
       "2020-12-01 18:00:00                 0.00000\n",
       "2020-12-01 19:00:00                 0.00000\n",
       "2020-12-01 20:00:00                 0.00000\n",
       "2020-12-01 21:00:00                 0.00000\n",
       "2020-12-01 22:00:00                 0.00000\n",
       "2020-12-01 23:00:00                 0.00000"
      ],
      "text/html": "<div>\n<style scoped>\n    .dataframe tbody tr th:only-of-type {\n        vertical-align: middle;\n    }\n\n    .dataframe tbody tr th {\n        vertical-align: top;\n    }\n\n    .dataframe thead th {\n        text-align: right;\n    }\n</style>\n<table border=\"1\" class=\"dataframe\">\n  <thead>\n    <tr style=\"text-align: right;\">\n      <th></th>\n      <th>horizontal_irradiation</th>\n    </tr>\n  </thead>\n  <tbody>\n    <tr>\n      <th>2020-12-01 00:00:00</th>\n      <td>0.00000</td>\n    </tr>\n    <tr>\n      <th>2020-12-01 01:00:00</th>\n      <td>0.00000</td>\n    </tr>\n    <tr>\n      <th>2020-12-01 02:00:00</th>\n      <td>0.00000</td>\n    </tr>\n    <tr>\n      <th>2020-12-01 03:00:00</th>\n      <td>0.00000</td>\n    </tr>\n    <tr>\n      <th>2020-12-01 04:00:00</th>\n      <td>0.00000</td>\n    </tr>\n    <tr>\n      <th>2020-12-01 05:00:00</th>\n      <td>0.00000</td>\n    </tr>\n    <tr>\n      <th>2020-12-01 06:00:00</th>\n      <td>0.00000</td>\n    </tr>\n    <tr>\n      <th>2020-12-01 07:00:00</th>\n      <td>0.00000</td>\n    </tr>\n    <tr>\n      <th>2020-12-01 08:00:00</th>\n      <td>4.64063</td>\n    </tr>\n    <tr>\n      <th>2020-12-01 09:00:00</th>\n      <td>23.11474</td>\n    </tr>\n    <tr>\n      <th>2020-12-01 10:00:00</th>\n      <td>46.34962</td>\n    </tr>\n    <tr>\n      <th>2020-12-01 11:00:00</th>\n      <td>75.91244</td>\n    </tr>\n    <tr>\n      <th>2020-12-01 12:00:00</th>\n      <td>102.62714</td>\n    </tr>\n    <tr>\n      <th>2020-12-01 13:00:00</th>\n      <td>100.03921</td>\n    </tr>\n    <tr>\n      <th>2020-12-01 14:00:00</th>\n      <td>94.10893</td>\n    </tr>\n    <tr>\n      <th>2020-12-01 15:00:00</th>\n      <td>22.99461</td>\n    </tr>\n    <tr>\n      <th>2020-12-01 16:00:00</th>\n      <td>2.77778</td>\n    </tr>\n    <tr>\n      <th>2020-12-01 17:00:00</th>\n      <td>0.00000</td>\n    </tr>\n    <tr>\n      <th>2020-12-01 18:00:00</th>\n      <td>0.00000</td>\n    </tr>\n    <tr>\n      <th>2020-12-01 19:00:00</th>\n      <td>0.00000</td>\n    </tr>\n    <tr>\n      <th>2020-12-01 20:00:00</th>\n      <td>0.00000</td>\n    </tr>\n    <tr>\n      <th>2020-12-01 21:00:00</th>\n      <td>0.00000</td>\n    </tr>\n    <tr>\n      <th>2020-12-01 22:00:00</th>\n      <td>0.00000</td>\n    </tr>\n    <tr>\n      <th>2020-12-01 23:00:00</th>\n      <td>0.00000</td>\n    </tr>\n  </tbody>\n</table>\n</div>"
     },
     "metadata": {},
     "execution_count": 6
    }
   ],
   "source": [
    "irradiation = estimate.get_horizontal_irradiation()\n",
    "irradiation.head(24)"
   ]
  },
  {
   "cell_type": "code",
   "execution_count": null,
   "metadata": {},
   "outputs": [],
   "source": []
  }
 ]
}